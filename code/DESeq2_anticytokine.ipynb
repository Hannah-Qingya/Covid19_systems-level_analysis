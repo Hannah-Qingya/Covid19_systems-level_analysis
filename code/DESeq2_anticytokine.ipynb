{
 "cells": [
  {
   "cell_type": "markdown",
   "metadata": {},
   "source": [
    "# Header"
   ]
  },
  {
   "cell_type": "code",
   "execution_count": 1,
   "metadata": {
    "ExecuteTime": {
     "end_time": "2020-11-20T15:09:54.646579Z",
     "start_time": "2020-11-20T15:09:52.369873Z"
    }
   },
   "outputs": [],
   "source": [
    "from utils import *\n",
    "import matplotlib.pyplot as plt"
   ]
  },
  {
   "cell_type": "markdown",
   "metadata": {},
   "source": [
    "> For immune-related signature, we constructed the cytokine-related signature (to be suppressed) by overlapping the GO cytokine response gene set (GO:0034097) with the up-regulated genes (adjusted p value<0.05) from A549-ACE2 infected with high MOI of SARS-CoV-2 (328 genes) (GSE147507), with further selection of a final 17 genes at the 0.05 upper quantile of log2fold change. This 17 gene signature was used as the up-regulated gene input in CMap screening within the L1000 database, and the 275 compounds within A549 cell line with lowest connectivity scores (-100 ~ -90, showing strongest opposing effects) were selected."
   ]
  },
  {
   "cell_type": "markdown",
   "metadata": {},
   "source": [
    "# DEGs"
   ]
  },
  {
   "cell_type": "markdown",
   "metadata": {},
   "source": [
    "## Immune"
   ]
  },
  {
   "cell_type": "code",
   "execution_count": 2,
   "metadata": {
    "ExecuteTime": {
     "end_time": "2020-11-20T15:09:54.758552Z",
     "start_time": "2020-11-20T15:09:54.648747Z"
    }
   },
   "outputs": [
    {
     "data": {
      "text/html": [
       "<div>\n",
       "<style scoped>\n",
       "    .dataframe tbody tr th:only-of-type {\n",
       "        vertical-align: middle;\n",
       "    }\n",
       "\n",
       "    .dataframe tbody tr th {\n",
       "        vertical-align: top;\n",
       "    }\n",
       "\n",
       "    .dataframe thead th {\n",
       "        text-align: right;\n",
       "    }\n",
       "</style>\n",
       "<table border=\"1\" class=\"dataframe\">\n",
       "  <thead>\n",
       "    <tr style=\"text-align: right;\">\n",
       "      <th></th>\n",
       "      <th>SARS-CoV-1_L2FC</th>\n",
       "      <th>IAV_L2FC</th>\n",
       "      <th>MERS-CoV_L2FC</th>\n",
       "      <th>HPIV3_L2FC</th>\n",
       "      <th>RSV_L2FC</th>\n",
       "      <th>SARS-CoV-2(Calu-3)_L2FC</th>\n",
       "      <th>SARS-CoV-2(A549)_L2FC</th>\n",
       "      <th>SARS-CoV-2(A549-ACE2)LowMOI_L2FC</th>\n",
       "      <th>SARS-CoV-2(A549-ACE2)HiMOI_L2FC</th>\n",
       "      <th>SARS-CoV-2(A549-ACE2)-Ruxolitinib_L2FC</th>\n",
       "      <th>padj_SARS-CoV-1</th>\n",
       "      <th>padj_IAV</th>\n",
       "      <th>padj_MERS-CoV</th>\n",
       "      <th>padj_HPIV3</th>\n",
       "      <th>padj_RSV</th>\n",
       "      <th>padj_SARS-CoV-2(Calu-3)</th>\n",
       "      <th>padj_SARS-CoV-2(A549)</th>\n",
       "      <th>padj_SARS-CoV-2(A549-ACE2)LowMOI</th>\n",
       "      <th>padj_SARS-CoV-2(A549-ACE2)HiMOI</th>\n",
       "      <th>padj_SARS-CoV-2(A549-ACE2)-Ruxolitinib</th>\n",
       "    </tr>\n",
       "    <tr>\n",
       "      <th>GeneName</th>\n",
       "      <th></th>\n",
       "      <th></th>\n",
       "      <th></th>\n",
       "      <th></th>\n",
       "      <th></th>\n",
       "      <th></th>\n",
       "      <th></th>\n",
       "      <th></th>\n",
       "      <th></th>\n",
       "      <th></th>\n",
       "      <th></th>\n",
       "      <th></th>\n",
       "      <th></th>\n",
       "      <th></th>\n",
       "      <th></th>\n",
       "      <th></th>\n",
       "      <th></th>\n",
       "      <th></th>\n",
       "      <th></th>\n",
       "      <th></th>\n",
       "    </tr>\n",
       "  </thead>\n",
       "  <tbody>\n",
       "    <tr>\n",
       "      <th>IFNL1</th>\n",
       "      <td>0.0</td>\n",
       "      <td>1.36970</td>\n",
       "      <td>0.00000</td>\n",
       "      <td>7.837988</td>\n",
       "      <td>7.142762</td>\n",
       "      <td>7.23990</td>\n",
       "      <td>0.0</td>\n",
       "      <td>0.0</td>\n",
       "      <td>5.077692</td>\n",
       "      <td>3.547628</td>\n",
       "      <td>1.0</td>\n",
       "      <td>1.0</td>\n",
       "      <td>1.0</td>\n",
       "      <td>2.620000e-68</td>\n",
       "      <td>4.510000e-44</td>\n",
       "      <td>2.530000e-139</td>\n",
       "      <td>1.0</td>\n",
       "      <td>0.0</td>\n",
       "      <td>1.000000e+00</td>\n",
       "      <td>1.0</td>\n",
       "    </tr>\n",
       "    <tr>\n",
       "      <th>IFNL2</th>\n",
       "      <td>0.0</td>\n",
       "      <td>1.37928</td>\n",
       "      <td>0.12531</td>\n",
       "      <td>6.843922</td>\n",
       "      <td>4.838329</td>\n",
       "      <td>7.87792</td>\n",
       "      <td>0.0</td>\n",
       "      <td>0.0</td>\n",
       "      <td>5.246026</td>\n",
       "      <td>1.947436</td>\n",
       "      <td>1.0</td>\n",
       "      <td>1.0</td>\n",
       "      <td>1.0</td>\n",
       "      <td>1.480000e-48</td>\n",
       "      <td>9.740000e-17</td>\n",
       "      <td>5.690000e-107</td>\n",
       "      <td>1.0</td>\n",
       "      <td>0.0</td>\n",
       "      <td>2.690000e-20</td>\n",
       "      <td>1.0</td>\n",
       "    </tr>\n",
       "    <tr>\n",
       "      <th>IFNL3</th>\n",
       "      <td>0.0</td>\n",
       "      <td>1.81542</td>\n",
       "      <td>0.00000</td>\n",
       "      <td>6.225043</td>\n",
       "      <td>4.827347</td>\n",
       "      <td>7.46801</td>\n",
       "      <td>0.0</td>\n",
       "      <td>0.0</td>\n",
       "      <td>5.045848</td>\n",
       "      <td>2.510746</td>\n",
       "      <td>1.0</td>\n",
       "      <td>1.0</td>\n",
       "      <td>1.0</td>\n",
       "      <td>3.660000e-35</td>\n",
       "      <td>3.190000e-16</td>\n",
       "      <td>5.510000e-102</td>\n",
       "      <td>1.0</td>\n",
       "      <td>0.0</td>\n",
       "      <td>2.370000e-18</td>\n",
       "      <td>1.0</td>\n",
       "    </tr>\n",
       "  </tbody>\n",
       "</table>\n",
       "</div>"
      ],
      "text/plain": [
       "          SARS-CoV-1_L2FC  IAV_L2FC  MERS-CoV_L2FC  HPIV3_L2FC  RSV_L2FC  \\\n",
       "GeneName                                                                   \n",
       "IFNL1                 0.0   1.36970        0.00000    7.837988  7.142762   \n",
       "IFNL2                 0.0   1.37928        0.12531    6.843922  4.838329   \n",
       "IFNL3                 0.0   1.81542        0.00000    6.225043  4.827347   \n",
       "\n",
       "          SARS-CoV-2(Calu-3)_L2FC  SARS-CoV-2(A549)_L2FC  \\\n",
       "GeneName                                                   \n",
       "IFNL1                     7.23990                    0.0   \n",
       "IFNL2                     7.87792                    0.0   \n",
       "IFNL3                     7.46801                    0.0   \n",
       "\n",
       "          SARS-CoV-2(A549-ACE2)LowMOI_L2FC  SARS-CoV-2(A549-ACE2)HiMOI_L2FC  \\\n",
       "GeneName                                                                      \n",
       "IFNL1                                  0.0                         5.077692   \n",
       "IFNL2                                  0.0                         5.246026   \n",
       "IFNL3                                  0.0                         5.045848   \n",
       "\n",
       "          SARS-CoV-2(A549-ACE2)-Ruxolitinib_L2FC  padj_SARS-CoV-1  padj_IAV  \\\n",
       "GeneName                                                                      \n",
       "IFNL1                                   3.547628              1.0       1.0   \n",
       "IFNL2                                   1.947436              1.0       1.0   \n",
       "IFNL3                                   2.510746              1.0       1.0   \n",
       "\n",
       "          padj_MERS-CoV    padj_HPIV3      padj_RSV  padj_SARS-CoV-2(Calu-3)  \\\n",
       "GeneName                                                                       \n",
       "IFNL1               1.0  2.620000e-68  4.510000e-44            2.530000e-139   \n",
       "IFNL2               1.0  1.480000e-48  9.740000e-17            5.690000e-107   \n",
       "IFNL3               1.0  3.660000e-35  3.190000e-16            5.510000e-102   \n",
       "\n",
       "          padj_SARS-CoV-2(A549)  padj_SARS-CoV-2(A549-ACE2)LowMOI  \\\n",
       "GeneName                                                            \n",
       "IFNL1                       1.0                               0.0   \n",
       "IFNL2                       1.0                               0.0   \n",
       "IFNL3                       1.0                               0.0   \n",
       "\n",
       "          padj_SARS-CoV-2(A549-ACE2)HiMOI  \\\n",
       "GeneName                                    \n",
       "IFNL1                        1.000000e+00   \n",
       "IFNL2                        2.690000e-20   \n",
       "IFNL3                        2.370000e-18   \n",
       "\n",
       "          padj_SARS-CoV-2(A549-ACE2)-Ruxolitinib  \n",
       "GeneName                                          \n",
       "IFNL1                                        1.0  \n",
       "IFNL2                                        1.0  \n",
       "IFNL3                                        1.0  "
      ]
     },
     "execution_count": 2,
     "metadata": {},
     "output_type": "execute_result"
    }
   ],
   "source": [
    "dat = pd.read_csv('../data/Anticytokine/DEGs/Blanco_Cellline.csv', index_col=0)\n",
    "dat.head(3)"
   ]
  },
  {
   "cell_type": "code",
   "execution_count": 3,
   "metadata": {
    "ExecuteTime": {
     "end_time": "2020-11-20T15:09:55.160377Z",
     "start_time": "2020-11-20T15:09:54.761366Z"
    }
   },
   "outputs": [
    {
     "name": "stderr",
     "output_type": "stream",
     "text": [
      "/opt/anaconda3/lib/python3.7/site-packages/pandas/core/frame.py:4238: SettingWithCopyWarning: \n",
      "A value is trying to be set on a copy of a slice from a DataFrame\n",
      "\n",
      "See the caveats in the documentation: http://pandas.pydata.org/pandas-docs/stable/user_guide/indexing.html#returning-a-view-versus-a-copy\n",
      "  return super().rename(**kwargs)\n"
     ]
    },
    {
     "name": "stdout",
     "output_type": "stream",
     "text": [
      "(23710, 2)\n",
      "(8382, 2)\n"
     ]
    },
    {
     "data": {
      "image/png": "[encoded data removed]",
      "text/plain": [
       "<Figure size 432x288 with 1 Axes>"
      ]
     },
     "metadata": {
      "needs_background": "light"
     },
     "output_type": "display_data"
    }
   ],
   "source": [
    "name = 'SARS-CoV-2(A549-ACE2)HiMOI'\n",
    "df = dat[[f'{name}_L2FC',f'padj_{name}']]\n",
    "df.rename( columns={f'{name}_L2FC':'L2FC', f'padj_{name}':'padj'}, inplace=True )\n",
    "print(df.shape)\n",
    "\n",
    "sel = df[df['padj']<0.05]\n",
    "print(sel.shape)\n",
    "\n",
    "_ = plt.hist(sel['L2FC'].values, bins=100)"
   ]
  },
  {
   "cell_type": "markdown",
   "metadata": {},
   "source": [
    "# Gset"
   ]
  },
  {
   "cell_type": "code",
   "execution_count": 4,
   "metadata": {
    "ExecuteTime": {
     "end_time": "2020-11-20T15:09:55.375855Z",
     "start_time": "2020-11-20T15:09:55.163285Z"
    }
   },
   "outputs": [
    {
     "name": "stdout",
     "output_type": "stream",
     "text": [
      "328 down genes\n"
     ]
    }
   ],
   "source": [
    "gset = read_gmt('../data/Anticytokine/geneset/c5.all.v6.2.symbols.gmt')\n",
    "'go_response_to_cytokine' in gset \n",
    "\n",
    "s2 = gset['go_response_to_cytokine'] # GO:0034097, genes\n",
    "\n",
    "cytokine_genes = list(set([g for g in sel.index if g in s2])) # up regulated cytokine genes after infection\n",
    "print(f'{len(cytokine_genes)} down genes')"
   ]
  },
  {
   "cell_type": "code",
   "execution_count": 5,
   "metadata": {
    "ExecuteTime": {
     "end_time": "2020-11-20T15:09:55.645672Z",
     "start_time": "2020-11-20T15:09:55.377756Z"
    },
    "scrolled": true
   },
   "outputs": [
    {
     "name": "stdout",
     "output_type": "stream",
     "text": [
      "17 genes\n"
     ]
    },
    {
     "data": {
      "text/html": [
       "<div>\n",
       "<style scoped>\n",
       "    .dataframe tbody tr th:only-of-type {\n",
       "        vertical-align: middle;\n",
       "    }\n",
       "\n",
       "    .dataframe tbody tr th {\n",
       "        vertical-align: top;\n",
       "    }\n",
       "\n",
       "    .dataframe thead th {\n",
       "        text-align: right;\n",
       "    }\n",
       "</style>\n",
       "<table border=\"1\" class=\"dataframe\">\n",
       "  <thead>\n",
       "    <tr style=\"text-align: right;\">\n",
       "      <th></th>\n",
       "      <th>L2FC</th>\n",
       "      <th>padj</th>\n",
       "    </tr>\n",
       "    <tr>\n",
       "      <th>GeneName</th>\n",
       "      <th></th>\n",
       "      <th></th>\n",
       "    </tr>\n",
       "  </thead>\n",
       "  <tbody>\n",
       "    <tr>\n",
       "      <th>EGR1</th>\n",
       "      <td>6.616562</td>\n",
       "      <td>1.810000e-192</td>\n",
       "    </tr>\n",
       "    <tr>\n",
       "      <th>IFNB1</th>\n",
       "      <td>5.755194</td>\n",
       "      <td>1.150000e-28</td>\n",
       "    </tr>\n",
       "    <tr>\n",
       "      <th>CXCL2</th>\n",
       "      <td>5.272651</td>\n",
       "      <td>0.000000e+00</td>\n",
       "    </tr>\n",
       "    <tr>\n",
       "      <th>NFKBIA</th>\n",
       "      <td>5.232026</td>\n",
       "      <td>0.000000e+00</td>\n",
       "    </tr>\n",
       "    <tr>\n",
       "      <th>SELE</th>\n",
       "      <td>4.854643</td>\n",
       "      <td>1.590000e-25</td>\n",
       "    </tr>\n",
       "    <tr>\n",
       "      <th>IL8</th>\n",
       "      <td>4.853548</td>\n",
       "      <td>0.000000e+00</td>\n",
       "    </tr>\n",
       "    <tr>\n",
       "      <th>IRF7</th>\n",
       "      <td>4.805055</td>\n",
       "      <td>2.690000e-97</td>\n",
       "    </tr>\n",
       "    <tr>\n",
       "      <th>IFITM1</th>\n",
       "      <td>4.576129</td>\n",
       "      <td>3.210000e-47</td>\n",
       "    </tr>\n",
       "    <tr>\n",
       "      <th>NFIL3</th>\n",
       "      <td>4.218157</td>\n",
       "      <td>7.750000e-267</td>\n",
       "    </tr>\n",
       "    <tr>\n",
       "      <th>TNF</th>\n",
       "      <td>4.161780</td>\n",
       "      <td>3.700000e-29</td>\n",
       "    </tr>\n",
       "    <tr>\n",
       "      <th>CXCL3</th>\n",
       "      <td>4.028352</td>\n",
       "      <td>0.000000e+00</td>\n",
       "    </tr>\n",
       "    <tr>\n",
       "      <th>SOCS1</th>\n",
       "      <td>4.023351</td>\n",
       "      <td>1.480000e-16</td>\n",
       "    </tr>\n",
       "    <tr>\n",
       "      <th>CD274</th>\n",
       "      <td>4.010830</td>\n",
       "      <td>1.200000e-46</td>\n",
       "    </tr>\n",
       "    <tr>\n",
       "      <th>IL20RB</th>\n",
       "      <td>3.790395</td>\n",
       "      <td>1.150000e-34</td>\n",
       "    </tr>\n",
       "    <tr>\n",
       "      <th>CCL20</th>\n",
       "      <td>3.774880</td>\n",
       "      <td>1.050000e-185</td>\n",
       "    </tr>\n",
       "    <tr>\n",
       "      <th>CCR6</th>\n",
       "      <td>3.657564</td>\n",
       "      <td>1.600000e-16</td>\n",
       "    </tr>\n",
       "    <tr>\n",
       "      <th>HLA-F</th>\n",
       "      <td>3.494119</td>\n",
       "      <td>3.590000e-86</td>\n",
       "    </tr>\n",
       "  </tbody>\n",
       "</table>\n",
       "</div>"
      ],
      "text/plain": [
       "              L2FC           padj\n",
       "GeneName                         \n",
       "EGR1      6.616562  1.810000e-192\n",
       "IFNB1     5.755194   1.150000e-28\n",
       "CXCL2     5.272651   0.000000e+00\n",
       "NFKBIA    5.232026   0.000000e+00\n",
       "SELE      4.854643   1.590000e-25\n",
       "IL8       4.853548   0.000000e+00\n",
       "IRF7      4.805055   2.690000e-97\n",
       "IFITM1    4.576129   3.210000e-47\n",
       "NFIL3     4.218157  7.750000e-267\n",
       "TNF       4.161780   3.700000e-29\n",
       "CXCL3     4.028352   0.000000e+00\n",
       "SOCS1     4.023351   1.480000e-16\n",
       "CD274     4.010830   1.200000e-46\n",
       "IL20RB    3.790395   1.150000e-34\n",
       "CCL20     3.774880  1.050000e-185\n",
       "CCR6      3.657564   1.600000e-16\n",
       "HLA-F     3.494119   3.590000e-86"
      ]
     },
     "execution_count": 5,
     "metadata": {},
     "output_type": "execute_result"
    },
    {
     "data": {
      "image/png": "[encoded data removed]",
      "text/plain": [
       "<Figure size 432x288 with 1 Axes>"
      ]
     },
     "metadata": {
      "needs_background": "light"
     },
     "output_type": "display_data"
    }
   ],
   "source": [
    "cytokine_deg = sel.loc[cytokine_genes,:]\n",
    "\n",
    "_ = plt.hist(cytokine_deg['L2FC'].values, bins=100)\n",
    "\n",
    "thres = .95\n",
    "genes = cytokine_deg[cytokine_deg['L2FC']>np.quantile(cytokine_deg['L2FC'].values, thres)].index.tolist()\n",
    "print(f'{len(genes)} genes')\n",
    "cytokine_deg_fi = cytokine_deg.loc[genes,:].sort_values('L2FC', ascending=False)\n",
    "cytokine_deg_fi"
   ]
  },
  {
   "cell_type": "code",
   "execution_count": 6,
   "metadata": {
    "ExecuteTime": {
     "end_time": "2020-11-20T15:09:55.660035Z",
     "start_time": "2020-11-20T15:09:55.649172Z"
    },
    "scrolled": true
   },
   "outputs": [
    {
     "name": "stdout",
     "output_type": "stream",
     "text": [
      "EGR1\n",
      "IFNB1\n",
      "CXCL2\n",
      "NFKBIA\n",
      "SELE\n",
      "IL8\n",
      "IRF7\n",
      "IFITM1\n",
      "NFIL3\n",
      "TNF\n",
      "CXCL3\n",
      "SOCS1\n",
      "CD274\n",
      "IL20RB\n",
      "CCL20\n",
      "CCR6\n",
      "HLA-F\n"
     ]
    }
   ],
   "source": [
    "for g in cytokine_deg_fi.index:\n",
    "    print(g)"
   ]
  },
  {
   "cell_type": "markdown",
   "metadata": {},
   "source": [
    "17 genes as cmap input\n",
    "\n",
    "2 genes Valid but not used in query Valid HUGO symbol or Entrez ID not part of BING space, not used in query `CD274, IL20RB`"
   ]
  },
  {
   "cell_type": "markdown",
   "metadata": {},
   "source": [
    "## Add protein name"
   ]
  },
  {
   "cell_type": "code",
   "execution_count": 7,
   "metadata": {
    "ExecuteTime": {
     "end_time": "2020-11-20T15:10:08.920102Z",
     "start_time": "2020-11-20T15:09:55.665496Z"
    },
    "scrolled": true
   },
   "outputs": [],
   "source": [
    "# see https://www.uniprot.org/help/query-fields\n",
    "import requests\n",
    "\n",
    "prot_names = []\n",
    "for g in cytokine_deg_fi.index:\n",
    "    fullURL=f'https://www.uniprot.org/uniprot/?query=organism:9606+AND+gene_exact:{g}&sort=score&columns=protein names&format=tab'\n",
    "    result = requests.get(fullURL)\n",
    "    if result.ok and len(result.text)>0:\n",
    "        tmp = sorted((result.text.split('\\n')[1:]), key=len)[1].split('(')[0].strip()\n",
    "    else:\n",
    "        tmp = None\n",
    "    prot_names.append(tmp)       "
   ]
  },
  {
   "cell_type": "code",
   "execution_count": 8,
   "metadata": {
    "ExecuteTime": {
     "end_time": "2020-11-20T15:10:08.940695Z",
     "start_time": "2020-11-20T15:10:08.925446Z"
    },
    "scrolled": true
   },
   "outputs": [
    {
     "data": {
      "text/html": [
       "<div>\n",
       "<style scoped>\n",
       "    .dataframe tbody tr th:only-of-type {\n",
       "        vertical-align: middle;\n",
       "    }\n",
       "\n",
       "    .dataframe tbody tr th {\n",
       "        vertical-align: top;\n",
       "    }\n",
       "\n",
       "    .dataframe thead th {\n",
       "        text-align: right;\n",
       "    }\n",
       "</style>\n",
       "<table border=\"1\" class=\"dataframe\">\n",
       "  <thead>\n",
       "    <tr style=\"text-align: right;\">\n",
       "      <th></th>\n",
       "      <th>Protein name</th>\n",
       "      <th>L2FC</th>\n",
       "      <th>padj</th>\n",
       "    </tr>\n",
       "    <tr>\n",
       "      <th>GeneName</th>\n",
       "      <th></th>\n",
       "      <th></th>\n",
       "      <th></th>\n",
       "    </tr>\n",
       "  </thead>\n",
       "  <tbody>\n",
       "    <tr>\n",
       "      <th>EGR1</th>\n",
       "      <td>Early growth response protein</td>\n",
       "      <td>6.616562</td>\n",
       "      <td>1.810000e-192</td>\n",
       "    </tr>\n",
       "    <tr>\n",
       "      <th>IFNB1</th>\n",
       "      <td>Interferon beta</td>\n",
       "      <td>5.755194</td>\n",
       "      <td>1.150000e-28</td>\n",
       "    </tr>\n",
       "    <tr>\n",
       "      <th>CXCL2</th>\n",
       "      <td>C-X-C motif chemokine</td>\n",
       "      <td>5.272651</td>\n",
       "      <td>0.000000e+00</td>\n",
       "    </tr>\n",
       "    <tr>\n",
       "      <th>NFKBIA</th>\n",
       "      <td>NF-kappa-B inhibitor alpha</td>\n",
       "      <td>5.232026</td>\n",
       "      <td>0.000000e+00</td>\n",
       "    </tr>\n",
       "    <tr>\n",
       "      <th>SELE</th>\n",
       "      <td>E-selectin</td>\n",
       "      <td>4.854643</td>\n",
       "      <td>1.590000e-25</td>\n",
       "    </tr>\n",
       "    <tr>\n",
       "      <th>IL8</th>\n",
       "      <td>Multifunctional fusion protein [Includes: Inte...</td>\n",
       "      <td>4.853548</td>\n",
       "      <td>0.000000e+00</td>\n",
       "    </tr>\n",
       "    <tr>\n",
       "      <th>IRF7</th>\n",
       "      <td>Interferon regulatory factor 7</td>\n",
       "      <td>4.805055</td>\n",
       "      <td>2.690000e-97</td>\n",
       "    </tr>\n",
       "    <tr>\n",
       "      <th>IFITM1</th>\n",
       "      <td>Interferon induced transmembrane protein 1</td>\n",
       "      <td>4.576129</td>\n",
       "      <td>3.210000e-47</td>\n",
       "    </tr>\n",
       "    <tr>\n",
       "      <th>NFIL3</th>\n",
       "      <td>Nuclear factor interleukin-3-regulated protein</td>\n",
       "      <td>4.218157</td>\n",
       "      <td>7.750000e-267</td>\n",
       "    </tr>\n",
       "    <tr>\n",
       "      <th>TNF</th>\n",
       "      <td>Tumor necrosis factor</td>\n",
       "      <td>4.161780</td>\n",
       "      <td>3.700000e-29</td>\n",
       "    </tr>\n",
       "    <tr>\n",
       "      <th>CXCL3</th>\n",
       "      <td>C-X-C motif chemokine 3</td>\n",
       "      <td>4.028352</td>\n",
       "      <td>0.000000e+00</td>\n",
       "    </tr>\n",
       "    <tr>\n",
       "      <th>SOCS1</th>\n",
       "      <td>Suppressor of cytokine signaling 1</td>\n",
       "      <td>4.023351</td>\n",
       "      <td>1.480000e-16</td>\n",
       "    </tr>\n",
       "    <tr>\n",
       "      <th>CD274</th>\n",
       "      <td>Programmed cell death 1 ligand 1</td>\n",
       "      <td>4.010830</td>\n",
       "      <td>1.200000e-46</td>\n",
       "    </tr>\n",
       "    <tr>\n",
       "      <th>IL20RB</th>\n",
       "      <td>Interleukin-20 receptor subunit beta</td>\n",
       "      <td>3.790395</td>\n",
       "      <td>1.150000e-34</td>\n",
       "    </tr>\n",
       "    <tr>\n",
       "      <th>CCL20</th>\n",
       "      <td>C-C motif chemokine 20</td>\n",
       "      <td>3.774880</td>\n",
       "      <td>1.050000e-185</td>\n",
       "    </tr>\n",
       "    <tr>\n",
       "      <th>CCR6</th>\n",
       "      <td>C-C chemokine receptor type 6</td>\n",
       "      <td>3.657564</td>\n",
       "      <td>1.600000e-16</td>\n",
       "    </tr>\n",
       "    <tr>\n",
       "      <th>HLA-F</th>\n",
       "      <td>HLA-F</td>\n",
       "      <td>3.494119</td>\n",
       "      <td>3.590000e-86</td>\n",
       "    </tr>\n",
       "  </tbody>\n",
       "</table>\n",
       "</div>"
      ],
      "text/plain": [
       "                                               Protein name      L2FC  \\\n",
       "GeneName                                                                \n",
       "EGR1                          Early growth response protein  6.616562   \n",
       "IFNB1                                       Interferon beta  5.755194   \n",
       "CXCL2                                 C-X-C motif chemokine  5.272651   \n",
       "NFKBIA                           NF-kappa-B inhibitor alpha  5.232026   \n",
       "SELE                                             E-selectin  4.854643   \n",
       "IL8       Multifunctional fusion protein [Includes: Inte...  4.853548   \n",
       "IRF7                         Interferon regulatory factor 7  4.805055   \n",
       "IFITM1           Interferon induced transmembrane protein 1  4.576129   \n",
       "NFIL3        Nuclear factor interleukin-3-regulated protein  4.218157   \n",
       "TNF                                   Tumor necrosis factor  4.161780   \n",
       "CXCL3                               C-X-C motif chemokine 3  4.028352   \n",
       "SOCS1                    Suppressor of cytokine signaling 1  4.023351   \n",
       "CD274                      Programmed cell death 1 ligand 1  4.010830   \n",
       "IL20RB                 Interleukin-20 receptor subunit beta  3.790395   \n",
       "CCL20                                C-C motif chemokine 20  3.774880   \n",
       "CCR6                          C-C chemokine receptor type 6  3.657564   \n",
       "HLA-F                                                 HLA-F  3.494119   \n",
       "\n",
       "                   padj  \n",
       "GeneName                 \n",
       "EGR1      1.810000e-192  \n",
       "IFNB1      1.150000e-28  \n",
       "CXCL2      0.000000e+00  \n",
       "NFKBIA     0.000000e+00  \n",
       "SELE       1.590000e-25  \n",
       "IL8        0.000000e+00  \n",
       "IRF7       2.690000e-97  \n",
       "IFITM1     3.210000e-47  \n",
       "NFIL3     7.750000e-267  \n",
       "TNF        3.700000e-29  \n",
       "CXCL3      0.000000e+00  \n",
       "SOCS1      1.480000e-16  \n",
       "CD274      1.200000e-46  \n",
       "IL20RB     1.150000e-34  \n",
       "CCL20     1.050000e-185  \n",
       "CCR6       1.600000e-16  \n",
       "HLA-F      3.590000e-86  "
      ]
     },
     "execution_count": 8,
     "metadata": {},
     "output_type": "execute_result"
    }
   ],
   "source": [
    "cytokine_deg_fi['Protein name'] = prot_names\n",
    "cytokine_deg_fi = cytokine_deg_fi[['Protein name','L2FC','padj']].sort_values('L2FC', ascending=False)\n",
    "cytokine_deg_fi"
   ]
  },
  {
   "cell_type": "code",
   "execution_count": 9,
   "metadata": {
    "ExecuteTime": {
     "end_time": "2020-11-20T15:10:09.041407Z",
     "start_time": "2020-11-20T15:10:08.945850Z"
    }
   },
   "outputs": [],
   "source": [
    "cytokine_deg_fi.to_excel('../data/Anticytokine/DEGs/degs.xlsx')"
   ]
  },
  {
   "cell_type": "markdown",
   "metadata": {},
   "source": [
    "# Plot Log2FC"
   ]
  },
  {
   "cell_type": "code",
   "execution_count": 10,
   "metadata": {
    "ExecuteTime": {
     "end_time": "2020-11-20T15:10:10.303244Z",
     "start_time": "2020-11-20T15:10:09.044463Z"
    }
   },
   "outputs": [],
   "source": [
    "import seaborn as sns\n",
    "import matplotlib as mpl\n"
   ]
  },
  {
   "cell_type": "code",
   "execution_count": 11,
   "metadata": {
    "ExecuteTime": {
     "end_time": "2020-11-20T15:10:10.318661Z",
     "start_time": "2020-11-20T15:10:10.305390Z"
    }
   },
   "outputs": [
    {
     "name": "stderr",
     "output_type": "stream",
     "text": [
      "/opt/anaconda3/lib/python3.7/site-packages/ipykernel_launcher.py:3: SettingWithCopyWarning: \n",
      "A value is trying to be set on a copy of a slice from a DataFrame.\n",
      "Try using .loc[row_indexer,col_indexer] = value instead\n",
      "\n",
      "See the caveats in the documentation: http://pandas.pydata.org/pandas-docs/stable/user_guide/indexing.html#returning-a-view-versus-a-copy\n",
      "  This is separate from the ipykernel package so we can avoid doing imports until\n"
     ]
    }
   ],
   "source": [
    "df_p = cytokine_deg_fi.iloc[:,[1]]\n",
    "df_p.columns = ['log2FoldChange']\n",
    "df_p['GeneName'] = df_p.index.tolist()"
   ]
  },
  {
   "cell_type": "code",
   "execution_count": 12,
   "metadata": {
    "ExecuteTime": {
     "end_time": "2020-11-20T15:10:10.895417Z",
     "start_time": "2020-11-20T15:10:10.322257Z"
    }
   },
   "outputs": [
    {
     "data": {
      "image/png": "[encoded data removed]",
      "text/plain": [
       "<Figure size 1200x750 with 1 Axes>"
      ]
     },
     "metadata": {
      "needs_background": "light"
     },
     "output_type": "display_data"
    }
   ],
   "source": [
    "\n",
    "fig, ax = plt.subplots(figsize=(4,2.5), dpi=300)\n",
    "sns.barplot(y='log2FoldChange', x='GeneName',data=df_p, ax=ax)\n",
    "mpl.rcParams['xtick.major.pad']='0'\n",
    "mpl.rcParams['xtick.minor.pad']='0'\n",
    "ax.set_xticklabels(df_p['GeneName'].values, rotation=90, fontsize=12)\n",
    "ax.set_ylim([0,7])\n",
    "\n",
    "plt.savefig('../figures/anticytokine_17genes_logFC.png', dpi=300, bbox_inches='tight')"
   ]
  },
  {
   "cell_type": "markdown",
   "metadata": {},
   "source": [
    "# GO enrichment of 17 genes\n",
    "Table S2B"
   ]
  },
  {
   "cell_type": "code",
   "execution_count": 13,
   "metadata": {
    "ExecuteTime": {
     "end_time": "2020-11-20T15:10:10.912688Z",
     "start_time": "2020-11-20T15:10:10.897155Z"
    }
   },
   "outputs": [
    {
     "data": {
      "text/html": [
       "<div>\n",
       "<style scoped>\n",
       "    .dataframe tbody tr th:only-of-type {\n",
       "        vertical-align: middle;\n",
       "    }\n",
       "\n",
       "    .dataframe tbody tr th {\n",
       "        vertical-align: top;\n",
       "    }\n",
       "\n",
       "    .dataframe thead th {\n",
       "        text-align: right;\n",
       "    }\n",
       "</style>\n",
       "<table border=\"1\" class=\"dataframe\">\n",
       "  <thead>\n",
       "    <tr style=\"text-align: right;\">\n",
       "      <th></th>\n",
       "      <th>Protein name</th>\n",
       "      <th>L2FC</th>\n",
       "      <th>padj</th>\n",
       "    </tr>\n",
       "    <tr>\n",
       "      <th>GeneName</th>\n",
       "      <th></th>\n",
       "      <th></th>\n",
       "      <th></th>\n",
       "    </tr>\n",
       "  </thead>\n",
       "  <tbody>\n",
       "    <tr>\n",
       "      <th>EGR1</th>\n",
       "      <td>Early growth response protein</td>\n",
       "      <td>6.616562</td>\n",
       "      <td>1.810000e-192</td>\n",
       "    </tr>\n",
       "    <tr>\n",
       "      <th>IFNB1</th>\n",
       "      <td>Interferon beta</td>\n",
       "      <td>5.755194</td>\n",
       "      <td>1.150000e-28</td>\n",
       "    </tr>\n",
       "    <tr>\n",
       "      <th>CXCL2</th>\n",
       "      <td>C-X-C motif chemokine</td>\n",
       "      <td>5.272651</td>\n",
       "      <td>0.000000e+00</td>\n",
       "    </tr>\n",
       "  </tbody>\n",
       "</table>\n",
       "</div>"
      ],
      "text/plain": [
       "                           Protein name      L2FC           padj\n",
       "GeneName                                                        \n",
       "EGR1      Early growth response protein  6.616562  1.810000e-192\n",
       "IFNB1                   Interferon beta  5.755194   1.150000e-28\n",
       "CXCL2             C-X-C motif chemokine  5.272651   0.000000e+00"
      ]
     },
     "execution_count": 13,
     "metadata": {},
     "output_type": "execute_result"
    }
   ],
   "source": [
    "cytokine_deg_fi.head(3)"
   ]
  },
  {
   "cell_type": "code",
   "execution_count": 16,
   "metadata": {
    "ExecuteTime": {
     "end_time": "2020-11-20T15:22:43.143435Z",
     "start_time": "2020-11-20T15:22:43.015526Z"
    },
    "scrolled": true
   },
   "outputs": [
    {
     "name": "stdout",
     "output_type": "stream",
     "text": [
      "(196, 10)\n",
      "(4, 10)\n"
     ]
    },
    {
     "data": {
      "text/html": [
       "<div>\n",
       "<style scoped>\n",
       "    .dataframe tbody tr th:only-of-type {\n",
       "        vertical-align: middle;\n",
       "    }\n",
       "\n",
       "    .dataframe tbody tr th {\n",
       "        vertical-align: top;\n",
       "    }\n",
       "\n",
       "    .dataframe thead th {\n",
       "        text-align: right;\n",
       "    }\n",
       "</style>\n",
       "<table border=\"1\" class=\"dataframe\">\n",
       "  <thead>\n",
       "    <tr style=\"text-align: right;\">\n",
       "      <th></th>\n",
       "      <th>source</th>\n",
       "      <th>term_name</th>\n",
       "      <th>term_id</th>\n",
       "      <th>adjusted_p_value</th>\n",
       "      <th>negative_log10_of_adjusted_p_value</th>\n",
       "      <th>term_size</th>\n",
       "      <th>query_size</th>\n",
       "      <th>intersection_size</th>\n",
       "      <th>effective_domain_size</th>\n",
       "      <th>intersections</th>\n",
       "    </tr>\n",
       "  </thead>\n",
       "  <tbody>\n",
       "    <tr>\n",
       "      <th>0</th>\n",
       "      <td>GO:BP</td>\n",
       "      <td>cytokine-mediated signaling pathway</td>\n",
       "      <td>GO:0019221</td>\n",
       "      <td>1.195592e-13</td>\n",
       "      <td>12.922417</td>\n",
       "      <td>810</td>\n",
       "      <td>17</td>\n",
       "      <td>14</td>\n",
       "      <td>18017</td>\n",
       "      <td>EGR1,IFNB1,CXCL2,NFKBIA,IL8,IRF7,IFITM1,TNF,CX...</td>\n",
       "    </tr>\n",
       "    <tr>\n",
       "      <th>1</th>\n",
       "      <td>GO:BP</td>\n",
       "      <td>cellular response to cytokine stimulus</td>\n",
       "      <td>GO:0071345</td>\n",
       "      <td>1.934153e-13</td>\n",
       "      <td>12.713509</td>\n",
       "      <td>1143</td>\n",
       "      <td>17</td>\n",
       "      <td>15</td>\n",
       "      <td>18017</td>\n",
       "      <td>EGR1,IFNB1,CXCL2,NFKBIA,IL8,IRF7,IFITM1,NFIL3,...</td>\n",
       "    </tr>\n",
       "    <tr>\n",
       "      <th>2</th>\n",
       "      <td>GO:BP</td>\n",
       "      <td>regulation of response to external stimulus</td>\n",
       "      <td>GO:0032101</td>\n",
       "      <td>1.411812e-05</td>\n",
       "      <td>4.850223</td>\n",
       "      <td>1096</td>\n",
       "      <td>17</td>\n",
       "      <td>10</td>\n",
       "      <td>18017</td>\n",
       "      <td>IFNB1,NFKBIA,SELE,IL8,IRF7,TNF,SOCS1,IL20RB,CC...</td>\n",
       "    </tr>\n",
       "  </tbody>\n",
       "</table>\n",
       "</div>"
      ],
      "text/plain": [
       "  source                                    term_name     term_id  \\\n",
       "0  GO:BP          cytokine-mediated signaling pathway  GO:0019221   \n",
       "1  GO:BP       cellular response to cytokine stimulus  GO:0071345   \n",
       "2  GO:BP  regulation of response to external stimulus  GO:0032101   \n",
       "\n",
       "   adjusted_p_value  negative_log10_of_adjusted_p_value  term_size  \\\n",
       "0      1.195592e-13                           12.922417        810   \n",
       "1      1.934153e-13                           12.713509       1143   \n",
       "2      1.411812e-05                            4.850223       1096   \n",
       "\n",
       "   query_size  intersection_size  effective_domain_size  \\\n",
       "0          17                 14                  18017   \n",
       "1          17                 15                  18017   \n",
       "2          17                 10                  18017   \n",
       "\n",
       "                                       intersections  \n",
       "0  EGR1,IFNB1,CXCL2,NFKBIA,IL8,IRF7,IFITM1,TNF,CX...  \n",
       "1  EGR1,IFNB1,CXCL2,NFKBIA,IL8,IRF7,IFITM1,NFIL3,...  \n",
       "2  IFNB1,NFKBIA,SELE,IL8,IRF7,TNF,SOCS1,IL20RB,CC...  "
      ]
     },
     "execution_count": 16,
     "metadata": {},
     "output_type": "execute_result"
    }
   ],
   "source": [
    "# 17 genes\n",
    "#------ enr result\n",
    "enr = pd.read_csv('../data/Anticytokine/gprofiler/gProfiler_hsapiens_intersections.csv')\n",
    "print(enr.shape)\n",
    "\n",
    "enr_sel = enr[(enr['source'].isin(['GO:BP'])) & (enr['adjusted_p_value']<0.05) & (enr['intersection_size']>=10) & (enr['term_size']<=1200)].reset_index(drop=True)\n",
    "\n",
    "print(enr_sel.shape)\n",
    "\n",
    "enr_sel.head(3)"
   ]
  },
  {
   "cell_type": "code",
   "execution_count": 17,
   "metadata": {
    "ExecuteTime": {
     "end_time": "2020-11-20T15:23:35.912909Z",
     "start_time": "2020-11-20T15:23:35.836536Z"
    },
    "scrolled": true
   },
   "outputs": [
    {
     "name": "stdout",
     "output_type": "stream",
     "text": [
      "EGR1 2\n",
      "IFNB1 4\n",
      "CXCL2 2\n",
      "NFKBIA 3\n",
      "SELE 2\n",
      "IL8 4\n",
      "IRF7 4\n",
      "IFITM1 2\n",
      "NFIL3 1\n",
      "TNF 4\n",
      "CXCL3 2\n",
      "SOCS1 4\n",
      "CD274 1\n",
      "IL20RB 3\n",
      "CCL20 3\n",
      "CCR6 4\n",
      "HLA-F 4\n"
     ]
    }
   ],
   "source": [
    "cytokine_deg_fi\n",
    "\n",
    "res = []\n",
    "\n",
    "for i,g_i in enumerate(cytokine_deg_fi.values):\n",
    "    \n",
    "    g = cytokine_deg_fi.index[i]\n",
    "    \n",
    "    ct = 0\n",
    "    for row in enr_sel.values:   \n",
    "        if g in row[-1].split(','):\n",
    "            tmp = np.hstack((i+1, g, g_i[:-1], row[:3])) # gindex from 1\n",
    "            res.append(tmp)\n",
    "            ct += 1\n",
    "            \n",
    "    if ct == 0:\n",
    "        tmp = np.hstack((i+1, g, g_i[:-1], ['GO:BP'],['/']*2))\n",
    "        res.append(tmp)\n",
    "    \n",
    "    print(g,ct)\n",
    "    \n",
    "res_df = pd.DataFrame(data=np.array(res), columns=['index','Gene name', 'Protein name','Log2 Fold Change', 'Database','Term','GO number'])"
   ]
  },
  {
   "cell_type": "code",
   "execution_count": 18,
   "metadata": {
    "ExecuteTime": {
     "end_time": "2020-11-20T15:23:52.037662Z",
     "start_time": "2020-11-20T15:23:51.877661Z"
    },
    "scrolled": true
   },
   "outputs": [
    {
     "name": "stdout",
     "output_type": "stream",
     "text": [
      "(49, 2)\n"
     ]
    },
    {
     "data": {
      "text/html": [
       "<div>\n",
       "<style scoped>\n",
       "    .dataframe tbody tr th:only-of-type {\n",
       "        vertical-align: middle;\n",
       "    }\n",
       "\n",
       "    .dataframe tbody tr th {\n",
       "        vertical-align: top;\n",
       "    }\n",
       "\n",
       "    .dataframe thead th {\n",
       "        text-align: right;\n",
       "    }\n",
       "</style>\n",
       "<table border=\"1\" class=\"dataframe\">\n",
       "  <thead>\n",
       "    <tr style=\"text-align: right;\">\n",
       "      <th></th>\n",
       "      <th></th>\n",
       "      <th></th>\n",
       "      <th></th>\n",
       "      <th></th>\n",
       "      <th></th>\n",
       "      <th>Term</th>\n",
       "      <th>GO number</th>\n",
       "    </tr>\n",
       "    <tr>\n",
       "      <th>index</th>\n",
       "      <th>Gene name</th>\n",
       "      <th>Protein name</th>\n",
       "      <th>Log2 Fold Change</th>\n",
       "      <th>Database</th>\n",
       "      <th>idx</th>\n",
       "      <th></th>\n",
       "      <th></th>\n",
       "    </tr>\n",
       "  </thead>\n",
       "  <tbody>\n",
       "    <tr>\n",
       "      <th rowspan=\"2\" valign=\"top\">1</th>\n",
       "      <th rowspan=\"2\" valign=\"top\">EGR1</th>\n",
       "      <th rowspan=\"2\" valign=\"top\">Early growth response protein</th>\n",
       "      <th rowspan=\"2\" valign=\"top\">6.616562</th>\n",
       "      <th rowspan=\"2\" valign=\"top\">GO:BP</th>\n",
       "      <th>0</th>\n",
       "      <td>cytokine-mediated signaling pathway</td>\n",
       "      <td>GO:0019221</td>\n",
       "    </tr>\n",
       "    <tr>\n",
       "      <th>1</th>\n",
       "      <td>cellular response to cytokine stimulus</td>\n",
       "      <td>GO:0071345</td>\n",
       "    </tr>\n",
       "    <tr>\n",
       "      <th rowspan=\"4\" valign=\"top\">2</th>\n",
       "      <th rowspan=\"4\" valign=\"top\">IFNB1</th>\n",
       "      <th rowspan=\"4\" valign=\"top\">Interferon beta</th>\n",
       "      <th rowspan=\"4\" valign=\"top\">5.755194</th>\n",
       "      <th rowspan=\"4\" valign=\"top\">GO:BP</th>\n",
       "      <th>2</th>\n",
       "      <td>cytokine-mediated signaling pathway</td>\n",
       "      <td>GO:0019221</td>\n",
       "    </tr>\n",
       "    <tr>\n",
       "      <th>3</th>\n",
       "      <td>cellular response to cytokine stimulus</td>\n",
       "      <td>GO:0071345</td>\n",
       "    </tr>\n",
       "    <tr>\n",
       "      <th>4</th>\n",
       "      <td>regulation of response to external stimulus</td>\n",
       "      <td>GO:0032101</td>\n",
       "    </tr>\n",
       "    <tr>\n",
       "      <th>5</th>\n",
       "      <td>positive regulation of immune system process</td>\n",
       "      <td>GO:0002684</td>\n",
       "    </tr>\n",
       "    <tr>\n",
       "      <th rowspan=\"2\" valign=\"top\">3</th>\n",
       "      <th rowspan=\"2\" valign=\"top\">CXCL2</th>\n",
       "      <th rowspan=\"2\" valign=\"top\">C-X-C motif chemokine</th>\n",
       "      <th rowspan=\"2\" valign=\"top\">5.272651</th>\n",
       "      <th rowspan=\"2\" valign=\"top\">GO:BP</th>\n",
       "      <th>6</th>\n",
       "      <td>cytokine-mediated signaling pathway</td>\n",
       "      <td>GO:0019221</td>\n",
       "    </tr>\n",
       "    <tr>\n",
       "      <th>7</th>\n",
       "      <td>cellular response to cytokine stimulus</td>\n",
       "      <td>GO:0071345</td>\n",
       "    </tr>\n",
       "    <tr>\n",
       "      <th rowspan=\"3\" valign=\"top\">4</th>\n",
       "      <th rowspan=\"3\" valign=\"top\">NFKBIA</th>\n",
       "      <th rowspan=\"3\" valign=\"top\">NF-kappa-B inhibitor alpha</th>\n",
       "      <th rowspan=\"3\" valign=\"top\">5.232026</th>\n",
       "      <th rowspan=\"3\" valign=\"top\">GO:BP</th>\n",
       "      <th>8</th>\n",
       "      <td>cytokine-mediated signaling pathway</td>\n",
       "      <td>GO:0019221</td>\n",
       "    </tr>\n",
       "    <tr>\n",
       "      <th>9</th>\n",
       "      <td>cellular response to cytokine stimulus</td>\n",
       "      <td>GO:0071345</td>\n",
       "    </tr>\n",
       "    <tr>\n",
       "      <th>10</th>\n",
       "      <td>regulation of response to external stimulus</td>\n",
       "      <td>GO:0032101</td>\n",
       "    </tr>\n",
       "    <tr>\n",
       "      <th rowspan=\"2\" valign=\"top\">5</th>\n",
       "      <th rowspan=\"2\" valign=\"top\">SELE</th>\n",
       "      <th rowspan=\"2\" valign=\"top\">E-selectin</th>\n",
       "      <th rowspan=\"2\" valign=\"top\">4.854643</th>\n",
       "      <th rowspan=\"2\" valign=\"top\">GO:BP</th>\n",
       "      <th>11</th>\n",
       "      <td>regulation of response to external stimulus</td>\n",
       "      <td>GO:0032101</td>\n",
       "    </tr>\n",
       "    <tr>\n",
       "      <th>12</th>\n",
       "      <td>positive regulation of immune system process</td>\n",
       "      <td>GO:0002684</td>\n",
       "    </tr>\n",
       "    <tr>\n",
       "      <th rowspan=\"4\" valign=\"top\">6</th>\n",
       "      <th rowspan=\"4\" valign=\"top\">IL8</th>\n",
       "      <th rowspan=\"4\" valign=\"top\">Multifunctional fusion protein [Includes: Interleukin-8</th>\n",
       "      <th rowspan=\"4\" valign=\"top\">4.853548</th>\n",
       "      <th rowspan=\"4\" valign=\"top\">GO:BP</th>\n",
       "      <th>13</th>\n",
       "      <td>cytokine-mediated signaling pathway</td>\n",
       "      <td>GO:0019221</td>\n",
       "    </tr>\n",
       "    <tr>\n",
       "      <th>14</th>\n",
       "      <td>cellular response to cytokine stimulus</td>\n",
       "      <td>GO:0071345</td>\n",
       "    </tr>\n",
       "    <tr>\n",
       "      <th>15</th>\n",
       "      <td>regulation of response to external stimulus</td>\n",
       "      <td>GO:0032101</td>\n",
       "    </tr>\n",
       "    <tr>\n",
       "      <th>16</th>\n",
       "      <td>positive regulation of immune system process</td>\n",
       "      <td>GO:0002684</td>\n",
       "    </tr>\n",
       "    <tr>\n",
       "      <th rowspan=\"3\" valign=\"top\">7</th>\n",
       "      <th rowspan=\"3\" valign=\"top\">IRF7</th>\n",
       "      <th rowspan=\"3\" valign=\"top\">Interferon regulatory factor 7</th>\n",
       "      <th rowspan=\"3\" valign=\"top\">4.805055</th>\n",
       "      <th rowspan=\"3\" valign=\"top\">GO:BP</th>\n",
       "      <th>17</th>\n",
       "      <td>cytokine-mediated signaling pathway</td>\n",
       "      <td>GO:0019221</td>\n",
       "    </tr>\n",
       "    <tr>\n",
       "      <th>18</th>\n",
       "      <td>cellular response to cytokine stimulus</td>\n",
       "      <td>GO:0071345</td>\n",
       "    </tr>\n",
       "    <tr>\n",
       "      <th>19</th>\n",
       "      <td>regulation of response to external stimulus</td>\n",
       "      <td>GO:0032101</td>\n",
       "    </tr>\n",
       "  </tbody>\n",
       "</table>\n",
       "</div>"
      ],
      "text/plain": [
       "                                                                                                                                          Term  \\\n",
       "index Gene name Protein name                                       Log2 Fold Change Database idx                                                 \n",
       "1     EGR1      Early growth response protein                      6.616562         GO:BP    0             cytokine-mediated signaling pathway   \n",
       "                                                                                             1          cellular response to cytokine stimulus   \n",
       "2     IFNB1     Interferon beta                                    5.755194         GO:BP    2             cytokine-mediated signaling pathway   \n",
       "                                                                                             3          cellular response to cytokine stimulus   \n",
       "                                                                                             4     regulation of response to external stimulus   \n",
       "                                                                                             5    positive regulation of immune system process   \n",
       "3     CXCL2     C-X-C motif chemokine                              5.272651         GO:BP    6             cytokine-mediated signaling pathway   \n",
       "                                                                                             7          cellular response to cytokine stimulus   \n",
       "4     NFKBIA    NF-kappa-B inhibitor alpha                         5.232026         GO:BP    8             cytokine-mediated signaling pathway   \n",
       "                                                                                             9          cellular response to cytokine stimulus   \n",
       "                                                                                             10    regulation of response to external stimulus   \n",
       "5     SELE      E-selectin                                         4.854643         GO:BP    11    regulation of response to external stimulus   \n",
       "                                                                                             12   positive regulation of immune system process   \n",
       "6     IL8       Multifunctional fusion protein [Includes: Inter... 4.853548         GO:BP    13            cytokine-mediated signaling pathway   \n",
       "                                                                                             14         cellular response to cytokine stimulus   \n",
       "                                                                                             15    regulation of response to external stimulus   \n",
       "                                                                                             16   positive regulation of immune system process   \n",
       "7     IRF7      Interferon regulatory factor 7                     4.805055         GO:BP    17            cytokine-mediated signaling pathway   \n",
       "                                                                                             18         cellular response to cytokine stimulus   \n",
       "                                                                                             19    regulation of response to external stimulus   \n",
       "\n",
       "                                                                                                   GO number  \n",
       "index Gene name Protein name                                       Log2 Fold Change Database idx              \n",
       "1     EGR1      Early growth response protein                      6.616562         GO:BP    0    GO:0019221  \n",
       "                                                                                             1    GO:0071345  \n",
       "2     IFNB1     Interferon beta                                    5.755194         GO:BP    2    GO:0019221  \n",
       "                                                                                             3    GO:0071345  \n",
       "                                                                                             4    GO:0032101  \n",
       "                                                                                             5    GO:0002684  \n",
       "3     CXCL2     C-X-C motif chemokine                              5.272651         GO:BP    6    GO:0019221  \n",
       "                                                                                             7    GO:0071345  \n",
       "4     NFKBIA    NF-kappa-B inhibitor alpha                         5.232026         GO:BP    8    GO:0019221  \n",
       "                                                                                             9    GO:0071345  \n",
       "                                                                                             10   GO:0032101  \n",
       "5     SELE      E-selectin                                         4.854643         GO:BP    11   GO:0032101  \n",
       "                                                                                             12   GO:0002684  \n",
       "6     IL8       Multifunctional fusion protein [Includes: Inter... 4.853548         GO:BP    13   GO:0019221  \n",
       "                                                                                             14   GO:0071345  \n",
       "                                                                                             15   GO:0032101  \n",
       "                                                                                             16   GO:0002684  \n",
       "7     IRF7      Interferon regulatory factor 7                     4.805055         GO:BP    17   GO:0019221  \n",
       "                                                                                             18   GO:0071345  \n",
       "                                                                                             19   GO:0032101  "
      ]
     },
     "execution_count": 18,
     "metadata": {},
     "output_type": "execute_result"
    }
   ],
   "source": [
    "res_df['idx'] = res_df.index\n",
    "res_df = res_df.set_index(['index','Gene name', 'Protein name','Log2 Fold Change', 'Database','idx'])\n",
    "\n",
    "print(res_df.shape)\n",
    "res_df.head(20)"
   ]
  },
  {
   "cell_type": "code",
   "execution_count": 19,
   "metadata": {
    "ExecuteTime": {
     "end_time": "2020-11-20T15:23:59.259247Z",
     "start_time": "2020-11-20T15:23:59.139919Z"
    }
   },
   "outputs": [],
   "source": [
    "res_df.to_excel('../data/Anticytokine/geneset/17Signatures_GOBP.xlsx')"
   ]
  },
  {
   "cell_type": "code",
   "execution_count": null,
   "metadata": {},
   "outputs": [],
   "source": []
  }
 ],
 "metadata": {
  "kernelspec": {
   "display_name": "Python 3",
   "language": "python",
   "name": "python3"
  },
  "language_info": {
   "codemirror_mode": {
    "name": "ipython",
    "version": 3
   },
   "file_extension": ".py",
   "mimetype": "text/x-python",
   "name": "python",
   "nbconvert_exporter": "python",
   "pygments_lexer": "ipython3",
   "version": "3.8.0"
  },
  "toc": {
   "base_numbering": 1,
   "nav_menu": {},
   "number_sections": true,
   "sideBar": true,
   "skip_h1_title": false,
   "title_cell": "Table of Contents",
   "title_sidebar": "Contents",
   "toc_cell": false,
   "toc_position": {
    "height": "calc(100% - 180px)",
    "left": "10px",
    "top": "150px",
    "width": "224.594px"
   },
   "toc_section_display": true,
   "toc_window_display": true
  }
 },
 "nbformat": 4,
 "nbformat_minor": 2
}
